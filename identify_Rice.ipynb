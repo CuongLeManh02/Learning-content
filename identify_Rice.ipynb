{
  "nbformat": 4,
  "nbformat_minor": 0,
  "metadata": {
    "colab": {
      "provenance": [],
      "mount_file_id": "1jGc5Iy0dLZ9Fhvx9YFInHL1fxdmV4Kai",
      "authorship_tag": "ABX9TyOJi2nF5/k0zlttiYz+AA/3",
      "include_colab_link": true
    },
    "kernelspec": {
      "name": "python3",
      "display_name": "Python 3"
    },
    "language_info": {
      "name": "python"
    },
    "accelerator": "GPU",
    "gpuClass": "standard"
  },
  "cells": [
    {
      "cell_type": "markdown",
      "metadata": {
        "id": "view-in-github",
        "colab_type": "text"
      },
      "source": [
        "<a href=\"https://colab.research.google.com/github/CuongLeManh02/Learning-content/blob/main/identify_Rice.ipynb\" target=\"_parent\"><img src=\"https://colab.research.google.com/assets/colab-badge.svg\" alt=\"Open In Colab\"/></a>"
      ]
    },
    {
      "cell_type": "code",
      "execution_count": 2,
      "metadata": {
        "id": "ZNNdmZBZoKy-"
      },
      "outputs": [],
      "source": [
        "from sklearn.model_selection import train_test_split\n",
        "import matplotlib.pyplot as plt\n",
        "import os\n",
        "import numpy as np\n",
        "import tensorflow as tf\n",
        "from keras.utils import np_utils\n",
        "from keras.models import Sequential\n",
        "from keras.layers import Dense, Activation, Dropout, Conv2D, MaxPooling2D, Flatten\n",
        "from tensorflow.keras.optimizers import SGD, RMSprop\n",
        "from keras.callbacks import EarlyStopping, ModelCheckpoint\n",
        "from sklearn.utils import validation \n",
        "from sklearn import preprocessing\n",
        "from tensorflow.keras.utils import to_categorical\n",
        "from tensorflow.keras.models import load_model\n",
        "from tensorflow.keras.utils import load_img, img_to_array\n",
        "from tensorflow.keras.preprocessing.image import ImageDataGenerator"
      ]
    },
    {
      "cell_type": "code",
      "source": [
        "%cd /content/drive/MyDrive/Colab Notebooks/Database/Rice/"
      ],
      "metadata": {
        "colab": {
          "base_uri": "https://localhost:8080/"
        },
        "id": "gKPmCWv8uhOy",
        "outputId": "8faef594-cc2b-4b2d-c6ea-79bf7bf1d237"
      },
      "execution_count": 3,
      "outputs": [
        {
          "output_type": "stream",
          "name": "stdout",
          "text": [
            "/content/drive/MyDrive/Colab Notebooks/Database/Rice\n"
          ]
        }
      ]
    },
    {
      "cell_type": "code",
      "source": [
        "train_img=('/content/drive/MyDrive/Colab Notebooks/Database/Rice/Train')"
      ],
      "metadata": {
        "id": "yWgNZ-DGuhYw"
      },
      "execution_count": 4,
      "outputs": []
    },
    {
      "cell_type": "code",
      "source": [
        "valid_img=('/content/drive/MyDrive/Colab Notebooks/Database/Rice/Valid')"
      ],
      "metadata": {
        "id": "DurHGOYsuhdD"
      },
      "execution_count": 5,
      "outputs": []
    },
    {
      "cell_type": "code",
      "source": [
        "train_dg=ImageDataGenerator(rescale=1./255,shear_range=0.2, zoom_range=0.2, horizontal_flip=True)"
      ],
      "metadata": {
        "id": "3pYY729cuhfW"
      },
      "execution_count": 6,
      "outputs": []
    },
    {
      "cell_type": "code",
      "source": [
        "valid_dg=ImageDataGenerator(rescale=1./255,shear_range=0.2, zoom_range=0.2, horizontal_flip=True)"
      ],
      "metadata": {
        "id": "9cgQU8Jluhhy"
      },
      "execution_count": 7,
      "outputs": []
    },
    {
      "cell_type": "code",
      "source": [
        "train_rice= train_dg.flow_from_directory(train_img,target_size=(200,200),class_mode='categorical')\n",
        "valid_rice= valid_dg.flow_from_directory(valid_img,target_size=(200,200),class_mode='categorical')"
      ],
      "metadata": {
        "colab": {
          "base_uri": "https://localhost:8080/"
        },
        "id": "41122jq6uhkX",
        "outputId": "f68df89d-e41c-45f4-a77a-a1ab8376ed49"
      },
      "execution_count": 9,
      "outputs": [
        {
          "output_type": "stream",
          "name": "stdout",
          "text": [
            "Found 500 images belonging to 5 classes.\n",
            "Found 250 images belonging to 5 classes.\n"
          ]
        }
      ]
    },
    {
      "cell_type": "code",
      "source": [
        "x_train,y_train=next(train_rice)"
      ],
      "metadata": {
        "id": "zoBb56DwuhpH"
      },
      "execution_count": 10,
      "outputs": []
    },
    {
      "cell_type": "code",
      "source": [
        "x_train.shape"
      ],
      "metadata": {
        "colab": {
          "base_uri": "https://localhost:8080/"
        },
        "id": "XN3p5WYDuhrs",
        "outputId": "84f7511f-0009-40b1-a5ad-e3be267f7626"
      },
      "execution_count": 13,
      "outputs": [
        {
          "output_type": "execute_result",
          "data": {
            "text/plain": [
              "(32, 200, 200, 3)"
            ]
          },
          "metadata": {},
          "execution_count": 13
        }
      ]
    },
    {
      "cell_type": "code",
      "source": [
        "y_train.shape"
      ],
      "metadata": {
        "colab": {
          "base_uri": "https://localhost:8080/"
        },
        "id": "0Vz0eSDPuhuA",
        "outputId": "632c4603-65d7-4e15-f34c-2154f125baad"
      },
      "execution_count": 12,
      "outputs": [
        {
          "output_type": "execute_result",
          "data": {
            "text/plain": [
              "(32, 5)"
            ]
          },
          "metadata": {},
          "execution_count": 12
        }
      ]
    },
    {
      "cell_type": "code",
      "source": [
        "train_rice.class_indices"
      ],
      "metadata": {
        "colab": {
          "base_uri": "https://localhost:8080/"
        },
        "id": "7gvAVniRuhwg",
        "outputId": "8cc5ce2b-1d78-44a3-cdf7-5784d06470c3"
      },
      "execution_count": 11,
      "outputs": [
        {
          "output_type": "execute_result",
          "data": {
            "text/plain": [
              "{'Arborio': 0, 'Basmati': 1, 'Ipsala': 2, 'Jasmine': 3, 'Karacadag': 4}"
            ]
          },
          "metadata": {},
          "execution_count": 11
        }
      ]
    },
    {
      "cell_type": "code",
      "source": [
        "label=['Arborio', 'Basmati', 'Ipsala', 'Jasmine','Karacadag']"
      ],
      "metadata": {
        "id": "WUmwjTRXu9To"
      },
      "execution_count": 14,
      "outputs": []
    },
    {
      "cell_type": "code",
      "source": [
        "model=Sequential()\n",
        "model.add(Conv2D(32,kernel_size=(3,3),activation='relu',input_shape=(200,200,3),padding='same'))\n",
        "model.add(MaxPooling2D((2,2),padding='same'))\n",
        "model.add(Conv2D(64,kernel_size=(3,3),activation='relu',padding='same'))\n",
        "\n",
        "model.add(MaxPooling2D((2,2),padding='same'))\n",
        "model.add(Conv2D(128,kernel_size=(3,3),activation='relu',padding='same'))\n",
        "\n",
        "model.add(MaxPooling2D((2,2),padding='same'))\n",
        "model.add(Flatten())\n",
        "model.add(Dense(128,activation='relu'))\n",
        "model.add(Dense(5,activation='softmax'))\n",
        "model.summary()"
      ],
      "metadata": {
        "colab": {
          "base_uri": "https://localhost:8080/"
        },
        "id": "wv5TxYgKu9aD",
        "outputId": "52b40936-1fe8-421e-f0f1-1ed24c2f7a4f"
      },
      "execution_count": 16,
      "outputs": [
        {
          "output_type": "stream",
          "name": "stdout",
          "text": [
            "Model: \"sequential_1\"\n",
            "_________________________________________________________________\n",
            " Layer (type)                Output Shape              Param #   \n",
            "=================================================================\n",
            " conv2d_3 (Conv2D)           (None, 200, 200, 32)      896       \n",
            "                                                                 \n",
            " max_pooling2d_3 (MaxPooling  (None, 100, 100, 32)     0         \n",
            " 2D)                                                             \n",
            "                                                                 \n",
            " conv2d_4 (Conv2D)           (None, 100, 100, 64)      18496     \n",
            "                                                                 \n",
            " max_pooling2d_4 (MaxPooling  (None, 50, 50, 64)       0         \n",
            " 2D)                                                             \n",
            "                                                                 \n",
            " conv2d_5 (Conv2D)           (None, 50, 50, 128)       73856     \n",
            "                                                                 \n",
            " max_pooling2d_5 (MaxPooling  (None, 25, 25, 128)      0         \n",
            " 2D)                                                             \n",
            "                                                                 \n",
            " flatten_1 (Flatten)         (None, 80000)             0         \n",
            "                                                                 \n",
            " dense_2 (Dense)             (None, 128)               10240128  \n",
            "                                                                 \n",
            " dense_3 (Dense)             (None, 5)                 645       \n",
            "                                                                 \n",
            "=================================================================\n",
            "Total params: 10,334,021\n",
            "Trainable params: 10,334,021\n",
            "Non-trainable params: 0\n",
            "_________________________________________________________________\n"
          ]
        }
      ]
    },
    {
      "cell_type": "code",
      "source": [
        "model.compile(optimizer='Adam',loss = \"categorical_crossentropy\", metrics=[\"accuracy\"])\n",
        "model.fit(train_rice,epochs=100,batch_size=128,verbose=1, validation_data=valid_rice)"
      ],
      "metadata": {
        "colab": {
          "base_uri": "https://localhost:8080/"
        },
        "id": "cPhEXptKu9gI",
        "outputId": "377d559e-ae62-4e2f-9967-7684dcb358d1"
      },
      "execution_count": 20,
      "outputs": [
        {
          "output_type": "stream",
          "name": "stdout",
          "text": [
            "Epoch 1/100\n",
            "16/16 [==============================] - 10s 611ms/step - loss: 0.5714 - accuracy: 0.7240 - val_loss: 2.7328 - val_accuracy: 0.7160\n",
            "Epoch 2/100\n",
            "16/16 [==============================] - 8s 520ms/step - loss: 0.4066 - accuracy: 0.7920 - val_loss: 2.6923 - val_accuracy: 0.6440\n",
            "Epoch 3/100\n",
            "16/16 [==============================] - 9s 585ms/step - loss: 0.3301 - accuracy: 0.7920 - val_loss: 2.1863 - val_accuracy: 0.7720\n",
            "Epoch 4/100\n",
            "16/16 [==============================] - 10s 668ms/step - loss: 0.3530 - accuracy: 0.7640 - val_loss: 3.0034 - val_accuracy: 0.6400\n",
            "Epoch 5/100\n",
            "16/16 [==============================] - 8s 503ms/step - loss: 0.3289 - accuracy: 0.7880 - val_loss: 2.2413 - val_accuracy: 0.7120\n",
            "Epoch 6/100\n",
            "16/16 [==============================] - 9s 590ms/step - loss: 0.3229 - accuracy: 0.7680 - val_loss: 3.1212 - val_accuracy: 0.6440\n",
            "Epoch 7/100\n",
            "16/16 [==============================] - 9s 597ms/step - loss: 0.2971 - accuracy: 0.7900 - val_loss: 2.8853 - val_accuracy: 0.6840\n",
            "Epoch 8/100\n",
            "16/16 [==============================] - 8s 506ms/step - loss: 0.3249 - accuracy: 0.7840 - val_loss: 2.7278 - val_accuracy: 0.6040\n",
            "Epoch 9/100\n",
            "16/16 [==============================] - 9s 583ms/step - loss: 0.3272 - accuracy: 0.7780 - val_loss: 2.6852 - val_accuracy: 0.6560\n",
            "Epoch 10/100\n",
            "16/16 [==============================] - 9s 575ms/step - loss: 0.3139 - accuracy: 0.7820 - val_loss: 3.5083 - val_accuracy: 0.6960\n",
            "Epoch 11/100\n",
            "16/16 [==============================] - 8s 493ms/step - loss: 0.3187 - accuracy: 0.7760 - val_loss: 3.6990 - val_accuracy: 0.7200\n",
            "Epoch 12/100\n",
            "16/16 [==============================] - 9s 578ms/step - loss: 0.3176 - accuracy: 0.7840 - val_loss: 4.0473 - val_accuracy: 0.6720\n",
            "Epoch 13/100\n",
            "16/16 [==============================] - 8s 486ms/step - loss: 0.3885 - accuracy: 0.7820 - val_loss: 3.6815 - val_accuracy: 0.7000\n",
            "Epoch 14/100\n",
            "16/16 [==============================] - 8s 495ms/step - loss: 0.4215 - accuracy: 0.7400 - val_loss: 2.5233 - val_accuracy: 0.6520\n",
            "Epoch 15/100\n",
            "16/16 [==============================] - 8s 503ms/step - loss: 0.3391 - accuracy: 0.7940 - val_loss: 2.7954 - val_accuracy: 0.6480\n",
            "Epoch 16/100\n",
            "16/16 [==============================] - 8s 496ms/step - loss: 0.3176 - accuracy: 0.7920 - val_loss: 3.8870 - val_accuracy: 0.6200\n",
            "Epoch 17/100\n",
            "16/16 [==============================] - 9s 571ms/step - loss: 0.3172 - accuracy: 0.8080 - val_loss: 5.1728 - val_accuracy: 0.7000\n",
            "Epoch 18/100\n",
            "16/16 [==============================] - 8s 497ms/step - loss: 0.3182 - accuracy: 0.7800 - val_loss: 3.4323 - val_accuracy: 0.6480\n",
            "Epoch 19/100\n",
            "16/16 [==============================] - 8s 497ms/step - loss: 0.2996 - accuracy: 0.8080 - val_loss: 2.9577 - val_accuracy: 0.7040\n",
            "Epoch 20/100\n",
            "16/16 [==============================] - 9s 581ms/step - loss: 0.3043 - accuracy: 0.7960 - val_loss: 3.1036 - val_accuracy: 0.7000\n",
            "Epoch 21/100\n",
            "16/16 [==============================] - 9s 568ms/step - loss: 0.3186 - accuracy: 0.7980 - val_loss: 3.2547 - val_accuracy: 0.6640\n",
            "Epoch 22/100\n",
            "16/16 [==============================] - 8s 500ms/step - loss: 0.3450 - accuracy: 0.7640 - val_loss: 3.8750 - val_accuracy: 0.7440\n",
            "Epoch 23/100\n",
            "16/16 [==============================] - 8s 498ms/step - loss: 0.3214 - accuracy: 0.8000 - val_loss: 3.3836 - val_accuracy: 0.7240\n",
            "Epoch 24/100\n",
            "16/16 [==============================] - 8s 483ms/step - loss: 0.3070 - accuracy: 0.7680 - val_loss: 3.5346 - val_accuracy: 0.6600\n",
            "Epoch 25/100\n",
            "16/16 [==============================] - 8s 487ms/step - loss: 0.3118 - accuracy: 0.7860 - val_loss: 3.5159 - val_accuracy: 0.6600\n",
            "Epoch 26/100\n",
            "16/16 [==============================] - 9s 573ms/step - loss: 0.3050 - accuracy: 0.7840 - val_loss: 3.7556 - val_accuracy: 0.6640\n",
            "Epoch 27/100\n",
            "16/16 [==============================] - 8s 492ms/step - loss: 0.3546 - accuracy: 0.7600 - val_loss: 3.1493 - val_accuracy: 0.7080\n",
            "Epoch 28/100\n",
            "16/16 [==============================] - 8s 489ms/step - loss: 0.3123 - accuracy: 0.7760 - val_loss: 3.3161 - val_accuracy: 0.6520\n",
            "Epoch 29/100\n",
            "16/16 [==============================] - 8s 493ms/step - loss: 0.3105 - accuracy: 0.7840 - val_loss: 4.1894 - val_accuracy: 0.7040\n",
            "Epoch 30/100\n",
            "16/16 [==============================] - 8s 493ms/step - loss: 0.3120 - accuracy: 0.8060 - val_loss: 3.5216 - val_accuracy: 0.6680\n",
            "Epoch 31/100\n",
            "16/16 [==============================] - 8s 492ms/step - loss: 0.3108 - accuracy: 0.7840 - val_loss: 4.4311 - val_accuracy: 0.7120\n",
            "Epoch 32/100\n",
            "16/16 [==============================] - 8s 488ms/step - loss: 0.3331 - accuracy: 0.7740 - val_loss: 2.7751 - val_accuracy: 0.7400\n",
            "Epoch 33/100\n",
            "16/16 [==============================] - 8s 487ms/step - loss: 0.3207 - accuracy: 0.7820 - val_loss: 3.5611 - val_accuracy: 0.6680\n",
            "Epoch 34/100\n",
            "16/16 [==============================] - 8s 486ms/step - loss: 0.5327 - accuracy: 0.7260 - val_loss: 1.8742 - val_accuracy: 0.6360\n",
            "Epoch 35/100\n",
            "16/16 [==============================] - 9s 569ms/step - loss: 0.3847 - accuracy: 0.7820 - val_loss: 2.0708 - val_accuracy: 0.6600\n",
            "Epoch 36/100\n",
            "16/16 [==============================] - 8s 493ms/step - loss: 0.3193 - accuracy: 0.7820 - val_loss: 3.6085 - val_accuracy: 0.6960\n",
            "Epoch 37/100\n",
            "16/16 [==============================] - 8s 496ms/step - loss: 0.3086 - accuracy: 0.7840 - val_loss: 3.8593 - val_accuracy: 0.6760\n",
            "Epoch 38/100\n",
            "16/16 [==============================] - 8s 491ms/step - loss: 0.3073 - accuracy: 0.7500 - val_loss: 3.2630 - val_accuracy: 0.6840\n",
            "Epoch 39/100\n",
            "16/16 [==============================] - 8s 497ms/step - loss: 0.3303 - accuracy: 0.7720 - val_loss: 3.2656 - val_accuracy: 0.6440\n",
            "Epoch 40/100\n",
            "16/16 [==============================] - 8s 509ms/step - loss: 0.2956 - accuracy: 0.8020 - val_loss: 3.6966 - val_accuracy: 0.6520\n",
            "Epoch 41/100\n",
            "16/16 [==============================] - 8s 494ms/step - loss: 0.3029 - accuracy: 0.7800 - val_loss: 3.3057 - val_accuracy: 0.7320\n",
            "Epoch 42/100\n",
            "16/16 [==============================] - 8s 502ms/step - loss: 0.2901 - accuracy: 0.8060 - val_loss: 3.3116 - val_accuracy: 0.6200\n",
            "Epoch 43/100\n",
            "16/16 [==============================] - 8s 488ms/step - loss: 0.3382 - accuracy: 0.7960 - val_loss: 3.8255 - val_accuracy: 0.7040\n",
            "Epoch 44/100\n",
            "16/16 [==============================] - 9s 572ms/step - loss: 0.3753 - accuracy: 0.7660 - val_loss: 2.8739 - val_accuracy: 0.7640\n",
            "Epoch 45/100\n",
            "16/16 [==============================] - 8s 486ms/step - loss: 0.3120 - accuracy: 0.8040 - val_loss: 3.3694 - val_accuracy: 0.6080\n",
            "Epoch 46/100\n",
            "16/16 [==============================] - 8s 492ms/step - loss: 0.2923 - accuracy: 0.7720 - val_loss: 3.3927 - val_accuracy: 0.7600\n",
            "Epoch 47/100\n",
            "16/16 [==============================] - 8s 495ms/step - loss: 0.3384 - accuracy: 0.7660 - val_loss: 4.2149 - val_accuracy: 0.5920\n",
            "Epoch 48/100\n",
            "16/16 [==============================] - 8s 489ms/step - loss: 0.4154 - accuracy: 0.7420 - val_loss: 4.3116 - val_accuracy: 0.6520\n",
            "Epoch 49/100\n",
            "16/16 [==============================] - 8s 514ms/step - loss: 0.3468 - accuracy: 0.7820 - val_loss: 3.3388 - val_accuracy: 0.7360\n",
            "Epoch 50/100\n",
            "16/16 [==============================] - 9s 539ms/step - loss: 0.3081 - accuracy: 0.7800 - val_loss: 3.8690 - val_accuracy: 0.6920\n",
            "Epoch 51/100\n",
            "16/16 [==============================] - 8s 494ms/step - loss: 0.3006 - accuracy: 0.7860 - val_loss: 3.4366 - val_accuracy: 0.7120\n",
            "Epoch 52/100\n",
            "16/16 [==============================] - 8s 491ms/step - loss: 0.3381 - accuracy: 0.7780 - val_loss: 4.9614 - val_accuracy: 0.6160\n",
            "Epoch 53/100\n",
            "16/16 [==============================] - 8s 490ms/step - loss: 0.3493 - accuracy: 0.7680 - val_loss: 4.7366 - val_accuracy: 0.6040\n",
            "Epoch 54/100\n",
            "16/16 [==============================] - 8s 488ms/step - loss: 0.3371 - accuracy: 0.7880 - val_loss: 3.3467 - val_accuracy: 0.6400\n",
            "Epoch 55/100\n",
            "16/16 [==============================] - 8s 494ms/step - loss: 0.3609 - accuracy: 0.7700 - val_loss: 4.1836 - val_accuracy: 0.7400\n",
            "Epoch 56/100\n",
            "16/16 [==============================] - 8s 494ms/step - loss: 0.3062 - accuracy: 0.7900 - val_loss: 3.3092 - val_accuracy: 0.6560\n",
            "Epoch 57/100\n",
            "16/16 [==============================] - 8s 498ms/step - loss: 0.3187 - accuracy: 0.7760 - val_loss: 4.8091 - val_accuracy: 0.6800\n",
            "Epoch 58/100\n",
            "16/16 [==============================] - 9s 578ms/step - loss: 0.3102 - accuracy: 0.7980 - val_loss: 3.8165 - val_accuracy: 0.6560\n",
            "Epoch 59/100\n",
            "16/16 [==============================] - 8s 511ms/step - loss: 0.3415 - accuracy: 0.7880 - val_loss: 4.6252 - val_accuracy: 0.6760\n",
            "Epoch 60/100\n",
            "16/16 [==============================] - 8s 492ms/step - loss: 0.3447 - accuracy: 0.7820 - val_loss: 4.1350 - val_accuracy: 0.6600\n",
            "Epoch 61/100\n",
            "16/16 [==============================] - 8s 496ms/step - loss: 0.3050 - accuracy: 0.7960 - val_loss: 4.6887 - val_accuracy: 0.7120\n",
            "Epoch 62/100\n",
            "16/16 [==============================] - 8s 488ms/step - loss: 0.2882 - accuracy: 0.7800 - val_loss: 4.5058 - val_accuracy: 0.6560\n",
            "Epoch 63/100\n",
            "16/16 [==============================] - 8s 494ms/step - loss: 0.2905 - accuracy: 0.8000 - val_loss: 5.4049 - val_accuracy: 0.6920\n",
            "Epoch 64/100\n",
            "16/16 [==============================] - 8s 488ms/step - loss: 0.2829 - accuracy: 0.8040 - val_loss: 4.7847 - val_accuracy: 0.6480\n",
            "Epoch 65/100\n",
            "16/16 [==============================] - 8s 496ms/step - loss: 0.2842 - accuracy: 0.7920 - val_loss: 4.8813 - val_accuracy: 0.6160\n",
            "Epoch 66/100\n",
            "16/16 [==============================] - 8s 488ms/step - loss: 0.2938 - accuracy: 0.7940 - val_loss: 5.2022 - val_accuracy: 0.6800\n",
            "Epoch 67/100\n",
            "16/16 [==============================] - 9s 570ms/step - loss: 0.3032 - accuracy: 0.7700 - val_loss: 4.8222 - val_accuracy: 0.7600\n",
            "Epoch 68/100\n",
            "16/16 [==============================] - 8s 499ms/step - loss: 0.3098 - accuracy: 0.7720 - val_loss: 5.3400 - val_accuracy: 0.6080\n",
            "Epoch 69/100\n",
            "16/16 [==============================] - 8s 500ms/step - loss: 0.2927 - accuracy: 0.7880 - val_loss: 5.0339 - val_accuracy: 0.7720\n",
            "Epoch 70/100\n",
            "16/16 [==============================] - 8s 498ms/step - loss: 0.2894 - accuracy: 0.7760 - val_loss: 4.7536 - val_accuracy: 0.6240\n",
            "Epoch 71/100\n",
            "16/16 [==============================] - 8s 491ms/step - loss: 0.2969 - accuracy: 0.7900 - val_loss: 5.7627 - val_accuracy: 0.7280\n",
            "Epoch 72/100\n",
            "16/16 [==============================] - 8s 483ms/step - loss: 0.3030 - accuracy: 0.7840 - val_loss: 4.9879 - val_accuracy: 0.6160\n",
            "Epoch 73/100\n",
            "16/16 [==============================] - 8s 529ms/step - loss: 0.2865 - accuracy: 0.7980 - val_loss: 4.9371 - val_accuracy: 0.6840\n",
            "Epoch 74/100\n",
            "16/16 [==============================] - 8s 492ms/step - loss: 0.3522 - accuracy: 0.7660 - val_loss: 5.5484 - val_accuracy: 0.6560\n",
            "Epoch 75/100\n",
            "16/16 [==============================] - 8s 492ms/step - loss: 0.3718 - accuracy: 0.7760 - val_loss: 5.4483 - val_accuracy: 0.6840\n",
            "Epoch 76/100\n",
            "16/16 [==============================] - 9s 582ms/step - loss: 0.3842 - accuracy: 0.7580 - val_loss: 4.7024 - val_accuracy: 0.7760\n",
            "Epoch 77/100\n",
            "16/16 [==============================] - 8s 497ms/step - loss: 0.3044 - accuracy: 0.7980 - val_loss: 4.8840 - val_accuracy: 0.6120\n",
            "Epoch 78/100\n",
            "16/16 [==============================] - 8s 497ms/step - loss: 0.2866 - accuracy: 0.7780 - val_loss: 5.3388 - val_accuracy: 0.6400\n",
            "Epoch 79/100\n",
            "16/16 [==============================] - 8s 494ms/step - loss: 0.2891 - accuracy: 0.7840 - val_loss: 5.4292 - val_accuracy: 0.7080\n",
            "Epoch 80/100\n",
            "16/16 [==============================] - 8s 501ms/step - loss: 0.3662 - accuracy: 0.7800 - val_loss: 5.8231 - val_accuracy: 0.6280\n",
            "Epoch 81/100\n",
            "16/16 [==============================] - 8s 496ms/step - loss: 0.3522 - accuracy: 0.7680 - val_loss: 4.3344 - val_accuracy: 0.6560\n",
            "Epoch 82/100\n",
            "16/16 [==============================] - 8s 492ms/step - loss: 0.2975 - accuracy: 0.7820 - val_loss: 3.6090 - val_accuracy: 0.7160\n",
            "Epoch 83/100\n",
            "16/16 [==============================] - 8s 493ms/step - loss: 0.3081 - accuracy: 0.7980 - val_loss: 4.8551 - val_accuracy: 0.7160\n",
            "Epoch 84/100\n",
            "16/16 [==============================] - 8s 491ms/step - loss: 0.2940 - accuracy: 0.7860 - val_loss: 4.4652 - val_accuracy: 0.6560\n",
            "Epoch 85/100\n",
            "16/16 [==============================] - 9s 574ms/step - loss: 0.3151 - accuracy: 0.7740 - val_loss: 5.1653 - val_accuracy: 0.6800\n",
            "Epoch 86/100\n",
            "16/16 [==============================] - 8s 494ms/step - loss: 0.3098 - accuracy: 0.7780 - val_loss: 4.3275 - val_accuracy: 0.7240\n",
            "Epoch 87/100\n",
            "16/16 [==============================] - 8s 493ms/step - loss: 0.2986 - accuracy: 0.8060 - val_loss: 4.5528 - val_accuracy: 0.7360\n",
            "Epoch 88/100\n",
            "16/16 [==============================] - 8s 500ms/step - loss: 0.2914 - accuracy: 0.7960 - val_loss: 4.8528 - val_accuracy: 0.7360\n",
            "Epoch 89/100\n",
            "16/16 [==============================] - 8s 493ms/step - loss: 0.2979 - accuracy: 0.7960 - val_loss: 6.2756 - val_accuracy: 0.6680\n",
            "Epoch 90/100\n",
            "16/16 [==============================] - 8s 495ms/step - loss: 0.2903 - accuracy: 0.7740 - val_loss: 4.6612 - val_accuracy: 0.7200\n",
            "Epoch 91/100\n",
            "16/16 [==============================] - 8s 502ms/step - loss: 0.2862 - accuracy: 0.8000 - val_loss: 5.3196 - val_accuracy: 0.7280\n",
            "Epoch 92/100\n",
            "16/16 [==============================] - 8s 501ms/step - loss: 0.2953 - accuracy: 0.7740 - val_loss: 5.2144 - val_accuracy: 0.6200\n",
            "Epoch 93/100\n",
            "16/16 [==============================] - 8s 507ms/step - loss: 0.2839 - accuracy: 0.8020 - val_loss: 6.0323 - val_accuracy: 0.7720\n",
            "Epoch 94/100\n",
            "16/16 [==============================] - 9s 571ms/step - loss: 0.2889 - accuracy: 0.7820 - val_loss: 5.1932 - val_accuracy: 0.7680\n",
            "Epoch 95/100\n",
            "16/16 [==============================] - 8s 526ms/step - loss: 0.3034 - accuracy: 0.7900 - val_loss: 6.0707 - val_accuracy: 0.6480\n",
            "Epoch 96/100\n",
            "16/16 [==============================] - 8s 500ms/step - loss: 0.2928 - accuracy: 0.7900 - val_loss: 5.2741 - val_accuracy: 0.7160\n",
            "Epoch 97/100\n",
            "16/16 [==============================] - 8s 502ms/step - loss: 0.2945 - accuracy: 0.7880 - val_loss: 6.4050 - val_accuracy: 0.7160\n",
            "Epoch 98/100\n",
            "16/16 [==============================] - 8s 505ms/step - loss: 0.2997 - accuracy: 0.7960 - val_loss: 5.0519 - val_accuracy: 0.6160\n",
            "Epoch 99/100\n",
            "16/16 [==============================] - 8s 500ms/step - loss: 0.2878 - accuracy: 0.7880 - val_loss: 4.7412 - val_accuracy: 0.6840\n",
            "Epoch 100/100\n",
            "16/16 [==============================] - 8s 489ms/step - loss: 0.2884 - accuracy: 0.8000 - val_loss: 4.5882 - val_accuracy: 0.6400\n"
          ]
        },
        {
          "output_type": "execute_result",
          "data": {
            "text/plain": [
              "<keras.callbacks.History at 0x7f0b8c408350>"
            ]
          },
          "metadata": {},
          "execution_count": 20
        }
      ]
    },
    {
      "cell_type": "code",
      "source": [
        "model.save('identify Rice.h5')"
      ],
      "metadata": {
        "id": "fxMuqfrKu9i8"
      },
      "execution_count": 21,
      "outputs": []
    },
    {
      "cell_type": "code",
      "source": [
        "metric = model.evaluate(x_train,y_train,verbose=2)\n",
        "print('Loss:',metric[0])\n",
        "print('Accuracy:',metric[1])"
      ],
      "metadata": {
        "colab": {
          "base_uri": "https://localhost:8080/"
        },
        "id": "haR8kCzlu9lm",
        "outputId": "6b9fb933-173a-4cc9-e08c-9079b1d137a4"
      },
      "execution_count": 22,
      "outputs": [
        {
          "output_type": "stream",
          "name": "stdout",
          "text": [
            "1/1 - 0s - loss: 0.3566 - accuracy: 0.6562 - 49ms/epoch - 49ms/step\n",
            "Loss: 0.3566168248653412\n",
            "Accuracy: 0.65625\n"
          ]
        }
      ]
    },
    {
      "cell_type": "code",
      "source": [
        "img=load_img('/content/drive/MyDrive/Colab Notebooks/Database/Rice/Test/Arborio (151).jpg',target_size=(200,200))\n",
        "plt.imshow(img)\n",
        "img=img_to_array(img)\n",
        "img=img.astype('float32')\n",
        "img=img.reshape(1,200,200,3)\n",
        "img=img/255\n",
        "print(model.predict(img))\n",
        "a= int(np.argmax(model.predict(img),axis=1))\n",
        "print(\"This is:\", label[a])"
      ],
      "metadata": {
        "colab": {
          "base_uri": "https://localhost:8080/",
          "height": 338
        },
        "id": "g4uL-CVvu9oV",
        "outputId": "03f2e4a1-7c39-443b-b32b-c5c2279ca09a"
      },
      "execution_count": 32,
      "outputs": [
        {
          "output_type": "stream",
          "name": "stdout",
          "text": [
            "1/1 [==============================] - 0s 18ms/step\n",
            "[[4.7388408e-01 5.2590650e-01 3.2226661e-05 5.4040647e-06 1.7186576e-04]]\n",
            "1/1 [==============================] - 0s 17ms/step\n",
            "This is: Basmati\n"
          ]
        },
        {
          "output_type": "display_data",
          "data": {
            "text/plain": [
              "<Figure size 432x288 with 1 Axes>"
            ],
            "image/png": "[encoded data removed]"
          },
          "metadata": {
            "needs_background": "light"
          }
        }
      ]
    },
    {
      "cell_type": "code",
      "source": [
        "img=load_img('/content/drive/MyDrive/Colab Notebooks/Database/Rice/Test/Jasmine (151).jpg',target_size=(200,200))\n",
        "plt.imshow(img)\n",
        "img=img_to_array(img)\n",
        "img=img.astype('float32')\n",
        "img=img.reshape(1,200,200,3)\n",
        "img=img/255\n",
        "print(model.predict(img))\n",
        "a= int(np.argmax(model.predict(img),axis=1))\n",
        "print(\"This is:\", label[a])"
      ],
      "metadata": {
        "colab": {
          "base_uri": "https://localhost:8080/",
          "height": 338
        },
        "id": "2YuA1JbEwBYr",
        "outputId": "c6f8d99a-d789-41c8-801c-fec7a9f37799"
      },
      "execution_count": 24,
      "outputs": [
        {
          "output_type": "stream",
          "name": "stdout",
          "text": [
            "1/1 [==============================] - 0s 25ms/step\n",
            "[[1.8441911e-09 2.7809910e-09 4.7675891e-10 1.0000000e+00 1.9708386e-15]]\n",
            "1/1 [==============================] - 0s 20ms/step\n",
            "This is: Jasmine\n"
          ]
        },
        {
          "output_type": "display_data",
          "data": {
            "text/plain": [
              "<Figure size 432x288 with 1 Axes>"
            ],
            "image/png": "[encoded data removed]"
          },
          "metadata": {
            "needs_background": "light"
          }
        }
      ]
    },
    {
      "cell_type": "code",
      "source": [
        "img=load_img('/content/drive/MyDrive/Colab Notebooks/Database/Rice/Test/Ipsala (151).jpg',target_size=(200,200))\n",
        "plt.imshow(img)\n",
        "img=img_to_array(img)\n",
        "img=img.astype('float32')\n",
        "img=img.reshape(1,200,200,3)\n",
        "img=img/255\n",
        "print(model.predict(img))\n",
        "a= int(np.argmax(model.predict(img),axis=1))\n",
        "print(\"This is:\", label[a])"
      ],
      "metadata": {
        "colab": {
          "base_uri": "https://localhost:8080/",
          "height": 338
        },
        "id": "5ZdlztpEwYBi",
        "outputId": "82339779-1b8f-498f-8155-81ef8bc7f389"
      },
      "execution_count": 25,
      "outputs": [
        {
          "output_type": "stream",
          "name": "stdout",
          "text": [
            "1/1 [==============================] - 0s 19ms/step\n",
            "[[3.4530873e-31 2.1737512e-31 1.0000000e+00 7.6571528e-31 9.3915602e-29]]\n",
            "1/1 [==============================] - 0s 23ms/step\n",
            "This is: Ipsala\n"
          ]
        },
        {
          "output_type": "display_data",
          "data": {
            "text/plain": [
              "<Figure size 432x288 with 1 Axes>"
            ],
            "image/png": "[encoded data removed]"
          },
          "metadata": {
            "needs_background": "light"
          }
        }
      ]
    },
    {
      "cell_type": "code",
      "source": [
        "img=load_img('/content/drive/MyDrive/Colab Notebooks/Database/Rice/Test/Karacadag (151).jpg',target_size=(200,200))\n",
        "plt.imshow(img)\n",
        "img=img_to_array(img)\n",
        "img=img.astype('float32')\n",
        "img=img.reshape(1,200,200,3)\n",
        "img=img/255\n",
        "print(model.predict(img))\n",
        "a= int(np.argmax(model.predict(img),axis=1))\n",
        "print(\"This is:\", label[a])"
      ],
      "metadata": {
        "colab": {
          "base_uri": "https://localhost:8080/",
          "height": 338
        },
        "id": "sgH_kguGwJng",
        "outputId": "c79dbb0c-84d0-4f7c-c046-618ff561f7c8"
      },
      "execution_count": 26,
      "outputs": [
        {
          "output_type": "stream",
          "name": "stdout",
          "text": [
            "1/1 [==============================] - 0s 17ms/step\n",
            "[[6.3784806e-05 8.5111758e-05 4.2477112e-07 9.2654434e-10 9.9985063e-01]]\n",
            "1/1 [==============================] - 0s 15ms/step\n",
            "This is: Karacadag\n"
          ]
        },
        {
          "output_type": "display_data",
          "data": {
            "text/plain": [
              "<Figure size 432x288 with 1 Axes>"
            ],
            "image/png": "[encoded data removed]"
          },
          "metadata": {
            "needs_background": "light"
          }
        }
      ]
    },
    {
      "cell_type": "code",
      "source": [
        "img=load_img('/content/drive/MyDrive/Colab Notebooks/Database/Rice/Test/basmati (151).jpg',target_size=(200,200))\n",
        "plt.imshow(img)\n",
        "img=img_to_array(img)\n",
        "img=img.astype('float32')\n",
        "img=img.reshape(1,200,200,3)\n",
        "img=img/255\n",
        "print(model.predict(img))\n",
        "a= int(np.argmax(model.predict(img),axis=1))\n",
        "print(\"This is:\", label[a])"
      ],
      "metadata": {
        "colab": {
          "base_uri": "https://localhost:8080/",
          "height": 338
        },
        "id": "09s5wogtwNep",
        "outputId": "08313f0f-62ac-4db3-e84e-226ab2ec1b7e"
      },
      "execution_count": 30,
      "outputs": [
        {
          "output_type": "stream",
          "name": "stdout",
          "text": [
            "1/1 [==============================] - 0s 16ms/step\n",
            "[[1.7927932e-22 9.5653260e-22 2.0490410e-17 1.0000000e+00 3.6272074e-31]]\n",
            "1/1 [==============================] - 0s 18ms/step\n",
            "This is: Jasmine\n"
          ]
        },
        {
          "output_type": "display_data",
          "data": {
            "text/plain": [
              "<Figure size 432x288 with 1 Axes>"
            ],
            "image/png": "[encoded data removed]"
          },
          "metadata": {
            "needs_background": "light"
          }
        }
      ]
    }
  ]
}