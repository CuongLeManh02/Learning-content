{
  "nbformat": 4,
  "nbformat_minor": 0,
  "metadata": {
    "colab": {
      "provenance": [],
      "mount_file_id": "1bpbVHjTNaOsCfRzrdPeOiAYIXsanw9oD",
      "authorship_tag": "ABX9TyPVaAz1Ravg0KVuRi4xrwbI",
      "include_colab_link": true
    },
    "kernelspec": {
      "name": "python3",
      "display_name": "Python 3"
    },
    "language_info": {
      "name": "python"
    },
    "accelerator": "GPU",
    "gpuClass": "standard"
  },
  "cells": [
    {
      "cell_type": "markdown",
      "metadata": {
        "id": "view-in-github",
        "colab_type": "text"
      },
      "source": [
        "<a href=\"https://colab.research.google.com/github/CuongLeManh02/Learning-content/blob/main/Sign_Language.ipynb\" target=\"_parent\"><img src=\"https://colab.research.google.com/assets/colab-badge.svg\" alt=\"Open In Colab\"/></a>"
      ]
    },
    {
      "cell_type": "code",
      "execution_count": null,
      "metadata": {
        "id": "L1gtYgvwdXxA"
      },
      "outputs": [],
      "source": [
        "from sklearn.model_selection import train_test_split\n",
        "import matplotlib.pyplot as plt\n",
        "import os\n",
        "import numpy as np\n",
        "import tensorflow as tf\n",
        "from keras.utils import np_utils\n",
        "from keras.models import Sequential\n",
        "from keras.layers import Dense, Activation, Dropout, Conv2D, MaxPooling2D, Flatten\n",
        "from tensorflow.keras.optimizers import SGD, RMSprop\n",
        "from keras.callbacks import EarlyStopping, ModelCheckpoint\n",
        "from sklearn.utils import validation \n",
        "from sklearn import preprocessing\n",
        "from tensorflow.keras.utils import to_categorical\n",
        "from tensorflow.keras.models import load_model\n",
        "from tensorflow.keras.utils import load_img, img_to_array\n",
        "from tensorflow.keras.preprocessing.image import ImageDataGenerator"
      ]
    },
    {
      "cell_type": "code",
      "source": [
        "%cd /content/drive/MyDrive/Colab Notebooks/Database/Sign language/"
      ],
      "metadata": {
        "colab": {
          "base_uri": "https://localhost:8080/"
        },
        "id": "smK2hz6zeQVm",
        "outputId": "66bf2b73-4bb6-4912-d191-15547db07e2b"
      },
      "execution_count": null,
      "outputs": [
        {
          "output_type": "stream",
          "name": "stdout",
          "text": [
            "/content/drive/MyDrive/Colab Notebooks/Database/Sign language\n"
          ]
        }
      ]
    },
    {
      "cell_type": "code",
      "source": [
        "train_img=('/content/drive/MyDrive/Colab Notebooks/Database/Sign language/Train')"
      ],
      "metadata": {
        "id": "dyMA_ynXeQjV"
      },
      "execution_count": null,
      "outputs": []
    },
    {
      "cell_type": "code",
      "source": [
        "train_dg=ImageDataGenerator(rescale=1./255,shear_range=0.2, zoom_range=0.2, horizontal_flip=True)"
      ],
      "metadata": {
        "id": "vZM_Uvi8eQp3"
      },
      "execution_count": null,
      "outputs": []
    },
    {
      "cell_type": "code",
      "source": [
        "train_lang= train_dg.flow_from_directory(train_img,target_size=(224,224),class_mode='categorical')"
      ],
      "metadata": {
        "colab": {
          "base_uri": "https://localhost:8080/"
        },
        "id": "UWUJfMm0eQv3",
        "outputId": "125ec450-f303-4306-e247-075db2cfba3b"
      },
      "execution_count": null,
      "outputs": [
        {
          "output_type": "stream",
          "name": "stdout",
          "text": [
            "Found 2600 images belonging to 26 classes.\n"
          ]
        }
      ]
    },
    {
      "cell_type": "code",
      "source": [
        "x_train,y_train=next(train_lang)"
      ],
      "metadata": {
        "id": "e3uWtuN7eQyx"
      },
      "execution_count": null,
      "outputs": []
    },
    {
      "cell_type": "code",
      "source": [
        "x_train.shape"
      ],
      "metadata": {
        "colab": {
          "base_uri": "https://localhost:8080/"
        },
        "id": "lkDki5LFeQ1X",
        "outputId": "f57b9d33-1630-4f54-a1d7-5c38de1a8a20"
      },
      "execution_count": null,
      "outputs": [
        {
          "output_type": "execute_result",
          "data": {
            "text/plain": [
              "(32, 224, 224, 3)"
            ]
          },
          "metadata": {},
          "execution_count": 7
        }
      ]
    },
    {
      "cell_type": "code",
      "source": [
        "y_train.shape"
      ],
      "metadata": {
        "colab": {
          "base_uri": "https://localhost:8080/"
        },
        "id": "hahbobYTeQ3v",
        "outputId": "10d01d11-d8b0-4eb5-b7f3-6fdab72770f6"
      },
      "execution_count": null,
      "outputs": [
        {
          "output_type": "execute_result",
          "data": {
            "text/plain": [
              "(32, 26)"
            ]
          },
          "metadata": {},
          "execution_count": 8
        }
      ]
    },
    {
      "cell_type": "code",
      "source": [
        "train_lang.class_indices"
      ],
      "metadata": {
        "colab": {
          "base_uri": "https://localhost:8080/"
        },
        "id": "qvUvzhk4eQ6p",
        "outputId": "54700dbf-08b3-4a0f-9dde-9440d15fe9bb"
      },
      "execution_count": null,
      "outputs": [
        {
          "output_type": "execute_result",
          "data": {
            "text/plain": [
              "{'A': 0,\n",
              " 'B': 1,\n",
              " 'C': 2,\n",
              " 'D': 3,\n",
              " 'E': 4,\n",
              " 'F': 5,\n",
              " 'G': 6,\n",
              " 'H': 7,\n",
              " 'Hello': 8,\n",
              " 'I': 9,\n",
              " 'K': 10,\n",
              " 'L': 11,\n",
              " 'Live Long': 12,\n",
              " 'M': 13,\n",
              " 'N': 14,\n",
              " 'O': 15,\n",
              " 'P': 16,\n",
              " 'R': 17,\n",
              " 'S': 18,\n",
              " 'T': 19,\n",
              " 'Tim': 20,\n",
              " 'U': 21,\n",
              " 'V': 22,\n",
              " 'W': 23,\n",
              " 'X': 24,\n",
              " 'Y': 25}"
            ]
          },
          "metadata": {},
          "execution_count": 9
        }
      ]
    },
    {
      "cell_type": "code",
      "source": [
        "label=['A',\n",
        " 'B',\n",
        " 'C',\n",
        " 'D',\n",
        " 'E',\n",
        " 'F',\n",
        " 'G',\n",
        " 'H',\n",
        " 'Hello',\n",
        " 'I',\n",
        " 'K',\n",
        " 'L',\n",
        " 'Live Long',\n",
        " 'M',\n",
        " 'N',\n",
        " 'O',\n",
        " 'P',\n",
        " 'R',\n",
        " 'S',\n",
        " 'T',\n",
        " 'Tim',\n",
        " 'U',\n",
        " 'V',\n",
        " 'W',\n",
        " 'X',\n",
        " 'Y']"
      ],
      "metadata": {
        "id": "VPq_AacQeQ8u"
      },
      "execution_count": null,
      "outputs": []
    },
    {
      "cell_type": "code",
      "source": [
        "model=Sequential()\n",
        "model.add(Conv2D(32,kernel_size=(3,3),activation='relu',input_shape=(224,224,3),padding='same'))\n",
        "model.add(MaxPooling2D((2,2),padding='same'))\n",
        "model.add(Conv2D(64,kernel_size=(3,3),activation='relu',padding='same'))\n",
        "\n",
        "model.add(MaxPooling2D((2,2),padding='same'))\n",
        "model.add(Conv2D(128,kernel_size=(3,3),activation='relu',padding='same'))\n",
        "\n",
        "model.add(MaxPooling2D((2,2),padding='same'))\n",
        "model.add(Flatten())\n",
        "model.add(Dense(128,activation='relu'))\n",
        "model.add(Dense(26,activation='softmax'))\n",
        "model.summary()"
      ],
      "metadata": {
        "colab": {
          "base_uri": "https://localhost:8080/"
        },
        "id": "ER0xGZvWeq7y",
        "outputId": "815ce818-6b9f-40fa-ee14-c0720472d517"
      },
      "execution_count": null,
      "outputs": [
        {
          "output_type": "stream",
          "name": "stdout",
          "text": [
            "Model: \"sequential\"\n",
            "_________________________________________________________________\n",
            " Layer (type)                Output Shape              Param #   \n",
            "=================================================================\n",
            " conv2d (Conv2D)             (None, 224, 224, 32)      896       \n",
            "                                                                 \n",
            " max_pooling2d (MaxPooling2D  (None, 112, 112, 32)     0         \n",
            " )                                                               \n",
            "                                                                 \n",
            " conv2d_1 (Conv2D)           (None, 112, 112, 64)      18496     \n",
            "                                                                 \n",
            " max_pooling2d_1 (MaxPooling  (None, 56, 56, 64)       0         \n",
            " 2D)                                                             \n",
            "                                                                 \n",
            " conv2d_2 (Conv2D)           (None, 56, 56, 128)       73856     \n",
            "                                                                 \n",
            " max_pooling2d_2 (MaxPooling  (None, 28, 28, 128)      0         \n",
            " 2D)                                                             \n",
            "                                                                 \n",
            " flatten (Flatten)           (None, 100352)            0         \n",
            "                                                                 \n",
            " dense (Dense)               (None, 128)               12845184  \n",
            "                                                                 \n",
            " dense_1 (Dense)             (None, 26)                3354      \n",
            "                                                                 \n",
            "=================================================================\n",
            "Total params: 12,941,786\n",
            "Trainable params: 12,941,786\n",
            "Non-trainable params: 0\n",
            "_________________________________________________________________\n"
          ]
        }
      ]
    },
    {
      "cell_type": "code",
      "source": [
        "model.compile(optimizer='Adam',loss = \"categorical_crossentropy\", metrics=[\"accuracy\"])\n",
        "model.fit(train_lang,epochs=100,batch_size=128,verbose=1)"
      ],
      "metadata": {
        "colab": {
          "base_uri": "https://localhost:8080/"
        },
        "id": "mHTifKHrerG2",
        "outputId": "1d90677e-41fb-46dc-8c8b-3db1b9ba1c54"
      },
      "execution_count": null,
      "outputs": [
        {
          "output_type": "stream",
          "name": "stdout",
          "text": [
            "Epoch 1/100\n",
            "82/82 [==============================] - 1330s 16s/step - loss: 1.6981 - accuracy: 0.5492\n",
            "Epoch 2/100\n",
            "82/82 [==============================] - 38s 462ms/step - loss: 0.0357 - accuracy: 0.9896\n",
            "Epoch 3/100\n",
            "82/82 [==============================] - 38s 463ms/step - loss: 0.0033 - accuracy: 0.9992\n",
            "Epoch 4/100\n",
            "82/82 [==============================] - 38s 458ms/step - loss: 0.0604 - accuracy: 0.9908\n",
            "Epoch 5/100\n",
            "82/82 [==============================] - 40s 485ms/step - loss: 0.0305 - accuracy: 0.9919\n",
            "Epoch 6/100\n",
            "82/82 [==============================] - 38s 462ms/step - loss: 0.0147 - accuracy: 0.9965\n",
            "Epoch 7/100\n",
            "82/82 [==============================] - 38s 460ms/step - loss: 0.0102 - accuracy: 0.9969\n",
            "Epoch 8/100\n",
            "82/82 [==============================] - 38s 465ms/step - loss: 0.0080 - accuracy: 0.9969\n",
            "Epoch 9/100\n",
            "82/82 [==============================] - 38s 459ms/step - loss: 0.0236 - accuracy: 0.9985\n",
            "Epoch 10/100\n",
            "82/82 [==============================] - 39s 479ms/step - loss: 0.0112 - accuracy: 0.9977\n",
            "Epoch 11/100\n",
            "82/82 [==============================] - 38s 460ms/step - loss: 0.0118 - accuracy: 0.9965\n",
            "Epoch 12/100\n",
            "82/82 [==============================] - 38s 457ms/step - loss: 0.0065 - accuracy: 0.9985\n",
            "Epoch 13/100\n",
            "82/82 [==============================] - 38s 465ms/step - loss: 0.0023 - accuracy: 0.9992\n",
            "Epoch 14/100\n",
            "82/82 [==============================] - 39s 476ms/step - loss: 7.0734e-04 - accuracy: 0.9996\n",
            "Epoch 15/100\n",
            "82/82 [==============================] - 37s 453ms/step - loss: 1.4180e-04 - accuracy: 1.0000\n",
            "Epoch 16/100\n",
            "82/82 [==============================] - 38s 459ms/step - loss: 9.9424e-04 - accuracy: 0.9996\n",
            "Epoch 17/100\n",
            "82/82 [==============================] - 37s 456ms/step - loss: 8.2907e-04 - accuracy: 1.0000\n",
            "Epoch 18/100\n",
            "82/82 [==============================] - 38s 459ms/step - loss: 3.1913e-04 - accuracy: 1.0000\n",
            "Epoch 19/100\n",
            "82/82 [==============================] - 39s 474ms/step - loss: 0.0074 - accuracy: 0.9988\n",
            "Epoch 20/100\n",
            "82/82 [==============================] - 38s 464ms/step - loss: 7.0691e-04 - accuracy: 0.9996\n",
            "Epoch 21/100\n",
            "82/82 [==============================] - 38s 465ms/step - loss: 0.0016 - accuracy: 0.9992\n",
            "Epoch 22/100\n",
            "82/82 [==============================] - 39s 472ms/step - loss: 3.2294e-04 - accuracy: 1.0000\n",
            "Epoch 23/100\n",
            "82/82 [==============================] - 38s 462ms/step - loss: 3.6258e-04 - accuracy: 1.0000\n",
            "Epoch 24/100\n",
            "82/82 [==============================] - 39s 475ms/step - loss: 0.0243 - accuracy: 0.9981\n",
            "Epoch 25/100\n",
            "82/82 [==============================] - 38s 457ms/step - loss: 0.0085 - accuracy: 0.9977\n",
            "Epoch 26/100\n",
            "82/82 [==============================] - 38s 460ms/step - loss: 0.0017 - accuracy: 0.9992\n",
            "Epoch 27/100\n",
            "82/82 [==============================] - 38s 462ms/step - loss: 0.0137 - accuracy: 0.9962\n",
            "Epoch 28/100\n",
            "82/82 [==============================] - 38s 467ms/step - loss: 0.0032 - accuracy: 0.9992\n",
            "Epoch 29/100\n",
            "82/82 [==============================] - 38s 460ms/step - loss: 1.3085e-04 - accuracy: 1.0000\n",
            "Epoch 30/100\n",
            "82/82 [==============================] - 38s 468ms/step - loss: 4.7400e-05 - accuracy: 1.0000\n",
            "Epoch 31/100\n",
            "82/82 [==============================] - 38s 458ms/step - loss: 0.0147 - accuracy: 0.9969\n",
            "Epoch 32/100\n",
            "82/82 [==============================] - 38s 458ms/step - loss: 0.0015 - accuracy: 0.9996\n",
            "Epoch 33/100\n",
            "82/82 [==============================] - 39s 476ms/step - loss: 0.0072 - accuracy: 0.9981\n",
            "Epoch 34/100\n",
            "82/82 [==============================] - 38s 458ms/step - loss: 0.0036 - accuracy: 0.9981\n",
            "Epoch 35/100\n",
            "82/82 [==============================] - 37s 456ms/step - loss: 0.0018 - accuracy: 0.9992\n",
            "Epoch 36/100\n",
            "82/82 [==============================] - 38s 462ms/step - loss: 5.5639e-05 - accuracy: 1.0000\n",
            "Epoch 37/100\n",
            "82/82 [==============================] - 38s 461ms/step - loss: 1.2689e-05 - accuracy: 1.0000\n",
            "Epoch 38/100\n",
            "82/82 [==============================] - 40s 483ms/step - loss: 0.0259 - accuracy: 0.9965\n",
            "Epoch 39/100\n",
            "82/82 [==============================] - 38s 463ms/step - loss: 0.0073 - accuracy: 0.9985\n",
            "Epoch 40/100\n",
            "82/82 [==============================] - 38s 463ms/step - loss: 1.8957e-04 - accuracy: 1.0000\n",
            "Epoch 41/100\n",
            "82/82 [==============================] - 38s 466ms/step - loss: 9.8960e-05 - accuracy: 1.0000\n",
            "Epoch 42/100\n",
            "82/82 [==============================] - 39s 476ms/step - loss: 2.5112e-05 - accuracy: 1.0000\n",
            "Epoch 43/100\n",
            "82/82 [==============================] - 40s 481ms/step - loss: 3.7007e-05 - accuracy: 1.0000\n",
            "Epoch 44/100\n",
            "82/82 [==============================] - 39s 471ms/step - loss: 1.1850e-05 - accuracy: 1.0000\n",
            "Epoch 45/100\n",
            "82/82 [==============================] - 39s 471ms/step - loss: 2.3503e-05 - accuracy: 1.0000\n",
            "Epoch 46/100\n",
            "82/82 [==============================] - 40s 482ms/step - loss: 0.0138 - accuracy: 0.9977\n",
            "Epoch 47/100\n",
            "82/82 [==============================] - 40s 489ms/step - loss: 0.0149 - accuracy: 0.9962\n",
            "Epoch 48/100\n",
            "82/82 [==============================] - 38s 468ms/step - loss: 1.6012e-04 - accuracy: 1.0000\n",
            "Epoch 49/100\n",
            "82/82 [==============================] - 40s 493ms/step - loss: 3.3211e-04 - accuracy: 1.0000\n",
            "Epoch 50/100\n",
            "82/82 [==============================] - 38s 466ms/step - loss: 3.6166e-04 - accuracy: 1.0000\n",
            "Epoch 51/100\n",
            "82/82 [==============================] - 39s 471ms/step - loss: 1.7364e-04 - accuracy: 1.0000\n",
            "Epoch 52/100\n",
            "82/82 [==============================] - 39s 479ms/step - loss: 0.0086 - accuracy: 0.9969\n",
            "Epoch 53/100\n",
            "82/82 [==============================] - 38s 464ms/step - loss: 6.4677e-04 - accuracy: 0.9996\n",
            "Epoch 54/100\n",
            "82/82 [==============================] - 38s 468ms/step - loss: 0.0199 - accuracy: 0.9962\n",
            "Epoch 55/100\n",
            "82/82 [==============================] - 38s 457ms/step - loss: 0.0044 - accuracy: 0.9981\n",
            "Epoch 56/100\n",
            "82/82 [==============================] - 38s 463ms/step - loss: 2.9141e-04 - accuracy: 1.0000\n",
            "Epoch 57/100\n",
            "82/82 [==============================] - 39s 480ms/step - loss: 0.0038 - accuracy: 0.9988\n",
            "Epoch 58/100\n",
            "82/82 [==============================] - 38s 465ms/step - loss: 0.0043 - accuracy: 0.9988\n",
            "Epoch 59/100\n",
            "82/82 [==============================] - 38s 460ms/step - loss: 0.0019 - accuracy: 0.9985\n",
            "Epoch 60/100\n",
            "82/82 [==============================] - 38s 458ms/step - loss: 2.5376e-04 - accuracy: 1.0000\n",
            "Epoch 61/100\n",
            "82/82 [==============================] - 38s 461ms/step - loss: 7.9186e-05 - accuracy: 1.0000\n",
            "Epoch 62/100\n",
            "82/82 [==============================] - 40s 484ms/step - loss: 0.0040 - accuracy: 0.9992\n",
            "Epoch 63/100\n",
            "82/82 [==============================] - 38s 459ms/step - loss: 1.7377e-04 - accuracy: 1.0000\n",
            "Epoch 64/100\n",
            "82/82 [==============================] - 38s 460ms/step - loss: 1.4811e-05 - accuracy: 1.0000\n",
            "Epoch 65/100\n",
            "82/82 [==============================] - 38s 459ms/step - loss: 3.8468e-05 - accuracy: 1.0000\n",
            "Epoch 66/100\n",
            "82/82 [==============================] - 38s 463ms/step - loss: 0.0078 - accuracy: 0.9981\n",
            "Epoch 67/100\n",
            "82/82 [==============================] - 40s 482ms/step - loss: 0.0027 - accuracy: 0.9996\n",
            "Epoch 68/100\n",
            "82/82 [==============================] - 38s 468ms/step - loss: 1.6059e-05 - accuracy: 1.0000\n",
            "Epoch 69/100\n",
            "82/82 [==============================] - 38s 468ms/step - loss: 6.6743e-05 - accuracy: 1.0000\n",
            "Epoch 70/100\n",
            "82/82 [==============================] - 39s 479ms/step - loss: 1.6663e-05 - accuracy: 1.0000\n",
            "Epoch 71/100\n",
            "82/82 [==============================] - 40s 482ms/step - loss: 1.0898e-05 - accuracy: 1.0000\n",
            "Epoch 72/100\n",
            "82/82 [==============================] - 38s 464ms/step - loss: 0.0056 - accuracy: 0.9992\n",
            "Epoch 73/100\n",
            "82/82 [==============================] - 38s 461ms/step - loss: 0.0020 - accuracy: 0.9988\n",
            "Epoch 74/100\n",
            "82/82 [==============================] - 38s 462ms/step - loss: 1.3803e-04 - accuracy: 1.0000\n",
            "Epoch 75/100\n",
            "82/82 [==============================] - 38s 461ms/step - loss: 2.2891e-05 - accuracy: 1.0000\n",
            "Epoch 76/100\n",
            "82/82 [==============================] - 39s 478ms/step - loss: 4.2297e-05 - accuracy: 1.0000\n",
            "Epoch 77/100\n",
            "82/82 [==============================] - 38s 459ms/step - loss: 6.1637e-06 - accuracy: 1.0000\n",
            "Epoch 78/100\n",
            "82/82 [==============================] - 39s 470ms/step - loss: 6.5505e-06 - accuracy: 1.0000\n",
            "Epoch 79/100\n",
            "82/82 [==============================] - 38s 459ms/step - loss: 0.0029 - accuracy: 0.9996\n",
            "Epoch 80/100\n",
            "82/82 [==============================] - 38s 459ms/step - loss: 0.0096 - accuracy: 0.9988\n",
            "Epoch 81/100\n",
            "82/82 [==============================] - 39s 475ms/step - loss: 0.0045 - accuracy: 0.9988\n",
            "Epoch 82/100\n",
            "82/82 [==============================] - 37s 456ms/step - loss: 0.0029 - accuracy: 0.9992\n",
            "Epoch 83/100\n",
            "82/82 [==============================] - 38s 459ms/step - loss: 4.3582e-04 - accuracy: 1.0000\n",
            "Epoch 84/100\n",
            "82/82 [==============================] - 38s 458ms/step - loss: 0.0010 - accuracy: 0.9992\n",
            "Epoch 85/100\n",
            "82/82 [==============================] - 38s 458ms/step - loss: 7.9055e-06 - accuracy: 1.0000\n",
            "Epoch 86/100\n",
            "82/82 [==============================] - 40s 488ms/step - loss: 1.0427e-04 - accuracy: 1.0000\n",
            "Epoch 87/100\n",
            "82/82 [==============================] - 37s 456ms/step - loss: 3.9719e-06 - accuracy: 1.0000\n",
            "Epoch 88/100\n",
            "82/82 [==============================] - 39s 473ms/step - loss: 4.8563e-05 - accuracy: 1.0000\n",
            "Epoch 89/100\n",
            "82/82 [==============================] - 37s 453ms/step - loss: 1.6017e-05 - accuracy: 1.0000\n",
            "Epoch 90/100\n",
            "82/82 [==============================] - 38s 465ms/step - loss: 6.2903e-06 - accuracy: 1.0000\n",
            "Epoch 91/100\n",
            "82/82 [==============================] - 39s 471ms/step - loss: 0.0041 - accuracy: 0.9988\n",
            "Epoch 92/100\n",
            "82/82 [==============================] - 37s 455ms/step - loss: 5.1280e-04 - accuracy: 1.0000\n",
            "Epoch 93/100\n",
            "82/82 [==============================] - 37s 454ms/step - loss: 1.1725e-05 - accuracy: 1.0000\n",
            "Epoch 94/100\n",
            "82/82 [==============================] - 38s 464ms/step - loss: 8.8442e-05 - accuracy: 1.0000\n",
            "Epoch 95/100\n",
            "82/82 [==============================] - 37s 456ms/step - loss: 1.3525e-05 - accuracy: 1.0000\n",
            "Epoch 96/100\n",
            "82/82 [==============================] - 38s 469ms/step - loss: 1.4732e-05 - accuracy: 1.0000\n",
            "Epoch 97/100\n",
            "82/82 [==============================] - 38s 463ms/step - loss: 5.9612e-07 - accuracy: 1.0000\n",
            "Epoch 98/100\n",
            "82/82 [==============================] - 39s 476ms/step - loss: 6.8441e-07 - accuracy: 1.0000\n",
            "Epoch 99/100\n",
            "82/82 [==============================] - 38s 467ms/step - loss: 2.3564e-06 - accuracy: 1.0000\n",
            "Epoch 100/100\n",
            "82/82 [==============================] - 37s 454ms/step - loss: 8.8152e-07 - accuracy: 1.0000\n"
          ]
        },
        {
          "output_type": "execute_result",
          "data": {
            "text/plain": [
              "<keras.callbacks.History at 0x7f0f6e69e7f0>"
            ]
          },
          "metadata": {},
          "execution_count": 12
        }
      ]
    },
    {
      "cell_type": "code",
      "source": [
        "model.save('Sign language Recognition2.h5')"
      ],
      "metadata": {
        "id": "4nDh5c_kerJd"
      },
      "execution_count": null,
      "outputs": []
    },
    {
      "cell_type": "code",
      "source": [
        "model_Face=load_model('Sign language Recognition2.h5')"
      ],
      "metadata": {
        "id": "ZID42cpeerMQ"
      },
      "execution_count": null,
      "outputs": []
    },
    {
      "cell_type": "code",
      "source": [
        "metric = model.evaluate(train_lang,verbose=2)\n",
        "print('Train Loss:',metric[0])\n",
        "print('Train Accuracy:',metric[1])"
      ],
      "metadata": {
        "colab": {
          "base_uri": "https://localhost:8080/"
        },
        "id": "2j--RPTFerO_",
        "outputId": "c94f3eb0-77ab-4553-8332-fbd5f77eaa68"
      },
      "execution_count": null,
      "outputs": [
        {
          "output_type": "stream",
          "name": "stdout",
          "text": [
            "82/82 - 37s - loss: 4.4718e-07 - accuracy: 1.0000 - 37s/epoch - 446ms/step\n",
            "Train Loss: 4.4718120761899627e-07\n",
            "Train Accuracy: 1.0\n"
          ]
        }
      ]
    }
  ]
}